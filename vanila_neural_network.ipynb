{
 "cells": [
  {
   "cell_type": "code",
   "execution_count": 2,
   "metadata": {},
   "outputs": [],
   "source": [
    "from tensorflow.keras.datasets import mnist\n",
    "(train_image, train_labels),(test_image,test_labels)= mnist.load_data()"
   ]
  },
  {
   "cell_type": "code",
   "execution_count": 6,
   "metadata": {},
   "outputs": [
    {
     "data": {
      "image/png": "[encoded data removed]",
      "text/plain": [
       "<Figure size 432x288 with 1 Axes>"
      ]
     },
     "metadata": {
      "needs_background": "light"
     },
     "output_type": "display_data"
    },
    {
     "data": {
      "text/plain": [
       "5"
      ]
     },
     "execution_count": 6,
     "metadata": {},
     "output_type": "execute_result"
    }
   ],
   "source": [
    "import matplotlib.pyplot as plt\n",
    "\n",
    "digit = train_image[0]\n",
    "\n",
    "plt.imshow(digit,cmap=plt.cm.binary)\n",
    "plt.show()\n",
    "train_labels[0]"
   ]
  },
  {
   "cell_type": "code",
   "execution_count": 33,
   "metadata": {},
   "outputs": [
    {
     "data": {
      "text/plain": [
       "<tf.Tensor: shape=(2, 2), dtype=float32, numpy=\n",
       "array([[2., 2.],\n",
       "       [2., 2.]], dtype=float32)>"
      ]
     },
     "execution_count": 33,
     "metadata": {},
     "output_type": "execute_result"
    }
   ],
   "source": [
    "import tensorflow as tf\n",
    "import numpy as np\n",
    "x = tf.Variable(tf.random.uniform((2,2)))\n",
    "\n",
    "with tf.GradientTape() as tape:\n",
    "    y= 2*x+3\n",
    "\n",
    "grad_of_y= tape.gradient(y,x)\n",
    "grad_of_y"
   ]
  },
  {
   "cell_type": "code",
   "execution_count": 38,
   "metadata": {},
   "outputs": [],
   "source": [
    "class Layer:\n",
    "    def   __init__(self, input_size,output_size,activation):\n",
    "        self.activation=activation\n",
    "        weight_shape =(input_size,output_size)\n",
    "        w_initial_value = tf.random.uniform(weight_shape,minval=0,maxval=1e-1)\n",
    "        self.W= tf.Variable(w_initial_value)\n",
    "        b_shape = (output_size,)\n",
    "        bias_inital_Value = tf.zeros(b_shape)\n",
    "        self.b=tf.Variable(bias_inital_Value)\n",
    "    def __call__(self,input):\n",
    "        return self.activation(tf.matmul(input,self.W)+self.b)\n",
    "    \n",
    "    @property\n",
    "    def Weights(self):\n",
    "        return [self.W,self.b]\n"
   ]
  },
  {
   "cell_type": "code",
   "execution_count": 36,
   "metadata": {},
   "outputs": [],
   "source": [
    "class Sequential():\n",
    "    def __init__(self,layers):\n",
    "        self.layers= layers\n",
    "\n",
    "    def __call__(self,input):\n",
    "        x= input\n",
    "        for layer in self.layers:\n",
    "            x= layer(x)\n",
    "            return x\n",
    "            "
   ]
  },
  {
   "cell_type": "code",
   "execution_count": 37,
   "metadata": {},
   "outputs": [],
   "source": [
    "model = Sequential([Layer(input_size=28*28,output_size=512,activation=tf.nn.relu),\n",
    "                    Layer(input_size=512,output_size=10,activation=tf.nn.softmax)])\n",
    "\n"
   ]
  }
 ],
 "metadata": {
  "interpreter": {
   "hash": "50288cb3920441657c716421d34c4ca4c7294970974e639e17bec98febf5b103"
  },
  "kernelspec": {
   "display_name": "Python 3.10.4 64-bit (windows store)",
   "language": "python",
   "name": "python3"
  },
  "language_info": {
   "codemirror_mode": {
    "name": "ipython",
    "version": 3
   },
   "file_extension": ".py",
   "mimetype": "text/x-python",
   "name": "python",
   "nbconvert_exporter": "python",
   "pygments_lexer": "ipython3",
   "version": "3.10.4"
  },
  "orig_nbformat": 4
 },
 "nbformat": 4,
 "nbformat_minor": 2
}
