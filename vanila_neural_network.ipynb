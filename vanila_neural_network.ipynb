{
 "cells": [
  {
   "cell_type": "code",
   "execution_count": 33,
   "metadata": {},
   "outputs": [],
   "source": [
    "import tensorflow as tf\n",
    "from tensorflow import keras"
   ]
  },
  {
   "cell_type": "code",
   "execution_count": 28,
   "metadata": {},
   "outputs": [],
   "source": [
    "\n",
    "class Layer:\n",
    "    \n",
    "    def   __init__(self, input_size,output_size,activation):\n",
    "       \n",
    "        self.activation=activation\n",
    "       \n",
    "        weight_shape =(input_size,output_size)\n",
    "       \n",
    "        w_initial_value = tf.random.uniform(weight_shape,minval=0,maxval=1e-1)\n",
    "       \n",
    "        self.W= tf.Variable(w_initial_value)\n",
    "        b_shape = (output_size,)\n",
    "       \n",
    "        bias_inital_Value = tf.zeros(b_shape)\n",
    "       \n",
    "        self.b=tf.Variable(bias_inital_Value)\n",
    "   \n",
    "    \n",
    "    def __call__(self,input):\n",
    "        return self.activation(tf.matmul(input,self.W)+self.b)\n",
    "    \n",
    "    \n",
    "    @property\n",
    "    def weights(self):\n",
    "        return [self.W,self.b]\n"
   ]
  },
  {
   "cell_type": "code",
   "execution_count": 30,
   "metadata": {},
   "outputs": [],
   "source": [
    "class Sequential():\n",
    "    def __init__(self,layers):\n",
    "        self.layers= layers\n",
    "\n",
    "    def __call__(self,input):\n",
    "        x= input        \n",
    "        for layer in self.layers:\n",
    "            x= layer(x)\n",
    "    \n",
    "    @property\n",
    "    def weights(self):        \n",
    "        weights=[]\n",
    "        for layer in self.layers:\n",
    "            weights+=layer.weights\n",
    "        return weights\n",
    "    "
   ]
  },
  {
   "cell_type": "code",
   "execution_count": null,
   "metadata": {},
   "outputs": [],
   "source": [
    "def training_step_by_batch(model,image_data,image_labels):\n",
    "    with tf.GradientTape() as tape:\n",
    "        #do preditction\n",
    "        predction= model(image_data)\n",
    "        \n",
    "        #calculate cost\n",
    "        cost = keras.losses.sparse_categorical_crossentropy(image_labels,predction)\n",
    "        \n",
    "        #calculate gradients\n",
    "        gradient = tape.gradient(cost,model.weights)\n",
    "        #update weights here\n",
    "        return cost\n"
   ]
  },
  {
   "cell_type": "code",
   "execution_count": null,
   "metadata": {},
   "outputs": [],
   "source": []
  },
  {
   "cell_type": "code",
   "execution_count": 31,
   "metadata": {},
   "outputs": [],
   "source": [
    "model = Sequential([Layer(input_size=2*2,output_size=2,activation=tf.nn.relu),\n",
    "                    Layer(input_size=2,output_size=1,activation=tf.nn.softmax)])\n",
    "\n"
   ]
  },
  {
   "cell_type": "code",
   "execution_count": 32,
   "metadata": {},
   "outputs": [
    {
     "name": "stdout",
     "output_type": "stream",
     "text": [
      "calling weight\n",
      "weightsss [[0.026656   0.09099692]\n",
      " [0.05410311 0.03436707]\n",
      " [0.01672791 0.0590652 ]\n",
      " [0.01976535 0.05673138]]\n",
      "bias [0. 0.]\n",
      "weightsss [[0.02993083]\n",
      " [0.06623727]]\n",
      "bias [0.]\n"
     ]
    },
    {
     "data": {
      "text/plain": [
       "[<tf.Variable 'Variable:0' shape=(4, 2) dtype=float32, numpy=\n",
       " array([[0.026656  , 0.09099692],\n",
       "        [0.05410311, 0.03436707],\n",
       "        [0.01672791, 0.0590652 ],\n",
       "        [0.01976535, 0.05673138]], dtype=float32)>,\n",
       " <tf.Variable 'Variable:0' shape=(2,) dtype=float32, numpy=array([0., 0.], dtype=float32)>,\n",
       " <tf.Variable 'Variable:0' shape=(2, 1) dtype=float32, numpy=\n",
       " array([[0.02993083],\n",
       "        [0.06623727]], dtype=float32)>,\n",
       " <tf.Variable 'Variable:0' shape=(1,) dtype=float32, numpy=array([0.], dtype=float32)>]"
      ]
     },
     "execution_count": 32,
     "metadata": {},
     "output_type": "execute_result"
    }
   ],
   "source": []
  }
 ],
 "metadata": {
  "interpreter": {
   "hash": "50288cb3920441657c716421d34c4ca4c7294970974e639e17bec98febf5b103"
  },
  "kernelspec": {
   "display_name": "Python 3.10.4 64-bit (windows store)",
   "language": "python",
   "name": "python3"
  },
  "language_info": {
   "codemirror_mode": {
    "name": "ipython",
    "version": 3
   },
   "file_extension": ".py",
   "mimetype": "text/x-python",
   "name": "python",
   "nbconvert_exporter": "python",
   "pygments_lexer": "ipython3",
   "version": "3.10.4"
  },
  "orig_nbformat": 4
 },
 "nbformat": 4,
 "nbformat_minor": 2
}
