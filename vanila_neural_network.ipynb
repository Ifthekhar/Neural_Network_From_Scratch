{
 "cells": [
  {
   "cell_type": "code",
   "execution_count": 1,
   "metadata": {},
   "outputs": [],
   "source": [
    "import tensorflow as tf\n",
    "import numpy as np\n",
    "class Layer:\n",
    "    def   __init__(self, input_size,output_size,activation):\n",
    "        self.activation=activation\n",
    "        weight_shape =(input_size,output_size)\n",
    "        w_initial_value = tf.random.uniform(weight_shape,minval=0,maxval=1e-1)\n",
    "        self.W= tf.Variable(w_initial_value)\n",
    "        b_shape = (output_size,)\n",
    "        bias_inital_Value = tf.zeros(b_shape)\n",
    "        self.b=tf.Variable(bias_inital_Value)\n",
    "    def __call__(self,input):\n",
    "        return self.activation(tf.matmul(input,self.W)+self.b)\n",
    "    \n",
    "    @property\n",
    "    def Weights(self):\n",
    "        return [self.W,self.b]\n"
   ]
  },
  {
   "cell_type": "code",
   "execution_count": 2,
   "metadata": {},
   "outputs": [],
   "source": [
    "class Sequential():\n",
    "    def __init__(self,layers):\n",
    "        self.layers= layers\n",
    "\n",
    "    def __call__(self,input):\n",
    "        x= input\n",
    "        for layer in self.layers:\n",
    "            x= layer(x)\n",
    "            return x\n",
    "            "
   ]
  },
  {
   "cell_type": "code",
   "execution_count": 37,
   "metadata": {},
   "outputs": [],
   "source": [
    "model = Sequential([Layer(input_size=28*28,output_size=512,activation=tf.nn.relu),\n",
    "                    Layer(input_size=512,output_size=10,activation=tf.nn.softmax)])\n",
    "\n"
   ]
  }
 ],
 "metadata": {
  "interpreter": {
   "hash": "50288cb3920441657c716421d34c4ca4c7294970974e639e17bec98febf5b103"
  },
  "kernelspec": {
   "display_name": "Python 3.10.4 64-bit (windows store)",
   "language": "python",
   "name": "python3"
  },
  "language_info": {
   "codemirror_mode": {
    "name": "ipython",
    "version": 3
   },
   "file_extension": ".py",
   "mimetype": "text/x-python",
   "name": "python",
   "nbconvert_exporter": "python",
   "pygments_lexer": "ipython3",
   "version": "3.10.4"
  },
  "orig_nbformat": 4
 },
 "nbformat": 4,
 "nbformat_minor": 2
}
